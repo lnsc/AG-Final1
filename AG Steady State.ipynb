{
 "cells": [
  {
   "cell_type": "code",
   "execution_count": 5,
   "metadata": {},
   "outputs": [
    {
     "name": "stdout",
     "output_type": "stream",
     "text": [
      "\n",
      " Óptimo x1: [1, 1, 0, 0, 0, 0, 0, 1, 1, 0, 0, 0, 1]\n",
      "\n",
      " Óptimo x2: [0, 0, 0, 0, 0, 0, 0, 0, 0, 0, 0, 0, 0]\n"
     ]
    }
   ],
   "source": [
    "#La función f(x1, x2) se usó como fitness subjetivo \n",
    "import random\n",
    "import numpy as np\n",
    "op_x1 = [1,1,0,0,0,0,0,1,1,0,0,0,1] #Cromosoma ideal x1 de 13 bits\n",
    "op_x2 = [0,0,0,0,0,0,0,0,0,0,0,0,0] #Cromosoma ideal x2 de 13 bits\n",
    "#El número -2,048 se representaría de la siguiente forma:\n",
    "#         - :1 bit    2:2 bits    0.999: 10bits\n",
    "Número_bits = 13 #Total de 13 bits\n",
    "Número_individuos = 100\n",
    "Número_repr = 50\n",
    "pc = 0.7\n",
    "pm = 0.1\n",
    "print(\"\\n Óptimo x1: %s\"%(op_x1))\n",
    "print(\"\\n Óptimo x2: %s\"%(op_x2))"
   ]
  },
  {
   "cell_type": "code",
   "execution_count": 11,
   "metadata": {},
   "outputs": [
    {
     "ename": "IndentationError",
     "evalue": "expected an indented block (<ipython-input-11-84f47059678b>, line 9)",
     "output_type": "error",
     "traceback": [
      "\u001b[1;36m  File \u001b[1;32m\"<ipython-input-11-84f47059678b>\"\u001b[1;36m, line \u001b[1;32m9\u001b[0m\n\u001b[1;33m    if (individuo_/2) >1:\u001b[0m\n\u001b[1;37m     ^\u001b[0m\n\u001b[1;31mIndentationError\u001b[0m\u001b[1;31m:\u001b[0m expected an indented block\n"
     ]
    }
   ],
   "source": [
    "def individuo(min, max):\n",
    "    individuo_ = round(random.uniform(min, max),2)\n",
    "    print (\"Individuo:  \" +  str(individuo_))\n",
    "    individuo_bin = np.zeros((Número_bits))\n",
    "    if (individuo_ < 0) :\n",
    "        individuo_bin[0] = 1\n",
    "        i=1\n",
    "        for i in range(len(individuo_bin)):\n",
    "            if (individuo_/2) >1:\n",
    "                individuo_bin[i] = individuo_%2  + individuo_bin[i]\n",
    "                #print (individuo_bin)\n",
    "                individuo_bin[i] = int(individuo_bin[i]) \n",
    "                individuo_ = individuo_/2 \n",
    "                #print (\"-->\" + str(individuo))\n",
    "        \n",
    "    else:\n",
    "        individuo_ = round(individuo_*100,2)\n",
    "        for i in range(len(individuo_bin)):\n",
    "            if (individuo_/2) >1:\n",
    "                individuo_bin[i] = individuo_%2  + individuo_bin[i]\n",
    "                #print (individuo_bin)\n",
    "                individuo_bin[i] = int(individuo_bin[i]) \n",
    "                individuo_ = individuo_/2 \n",
    "                #print (\"-->\" + str(individuo))\n",
    "\n",
    "    return (individuo_bin)\n",
    "print (\"individuo = \" + str(individuo(-2.048,2.048)))\n"
   ]
  },
  {
   "cell_type": "code",
   "execution_count": 7,
   "metadata": {},
   "outputs": [
    {
     "name": "stdout",
     "output_type": "stream",
     "text": [
      "Individuo:  -1.47\n",
      "Individuo:  -0.33\n",
      "Individuo:  -2.03\n",
      "Individuo:  -0.28\n",
      "Individuo:  -0.61\n",
      "Individuo:  -1.32\n",
      "Individuo:  0.13\n",
      "Individuo:  1.5\n",
      "Individuo:  -1.75\n",
      "Individuo:  0.41\n",
      "Individuo:  -1.68\n",
      "Individuo:  -0.7\n",
      "Individuo:  -0.51\n",
      "Individuo:  -0.55\n",
      "Individuo:  -1.62\n",
      "Individuo:  0.91\n",
      "Individuo:  1.31\n",
      "Individuo:  0.15\n",
      "Individuo:  0.48\n",
      "Individuo:  0.57\n",
      "Individuo:  -0.49\n",
      "Individuo:  -1.83\n",
      "Individuo:  1.45\n",
      "Individuo:  0.42\n",
      "Individuo:  -0.29\n",
      "Individuo:  0.15\n",
      "Individuo:  1.0\n",
      "Individuo:  0.47\n",
      "Individuo:  1.11\n",
      "Individuo:  -0.55\n",
      "Individuo:  0.34\n",
      "Individuo:  0.4\n",
      "Individuo:  -0.96\n",
      "Individuo:  1.53\n",
      "Individuo:  1.02\n",
      "Individuo:  -0.03\n",
      "Individuo:  1.64\n",
      "Individuo:  -0.35\n",
      "Individuo:  0.59\n",
      "Individuo:  0.56\n",
      "Individuo:  0.95\n",
      "Individuo:  1.77\n",
      "Individuo:  0.28\n",
      "Individuo:  -0.86\n",
      "Individuo:  1.98\n",
      "Individuo:  -0.14\n",
      "Individuo:  0.06\n",
      "Individuo:  -0.47\n",
      "Individuo:  1.37\n",
      "Individuo:  -1.49\n",
      "Individuo:  0.78\n",
      "Individuo:  -1.97\n",
      "Individuo:  -1.02\n",
      "Individuo:  -1.06\n",
      "Individuo:  0.12\n",
      "Individuo:  1.39\n",
      "Individuo:  -1.47\n",
      "Individuo:  -0.72\n",
      "Individuo:  1.87\n",
      "Individuo:  -0.2\n",
      "Individuo:  -1.22\n",
      "Individuo:  1.25\n",
      "Individuo:  0.55\n",
      "Individuo:  -0.02\n",
      "Individuo:  1.93\n",
      "Individuo:  1.66\n",
      "Individuo:  -1.58\n",
      "Individuo:  -0.13\n",
      "Individuo:  -1.12\n",
      "Individuo:  -0.75\n",
      "Individuo:  -1.11\n",
      "Individuo:  0.92\n",
      "Individuo:  -1.67\n",
      "Individuo:  -0.45\n",
      "Individuo:  0.87\n",
      "Individuo:  1.52\n",
      "Individuo:  -1.84\n",
      "Individuo:  -1.52\n",
      "Individuo:  1.18\n",
      "Individuo:  0.97\n",
      "Individuo:  2.04\n",
      "Individuo:  1.1\n",
      "Individuo:  1.7\n",
      "Individuo:  0.26\n",
      "Individuo:  1.12\n",
      "Individuo:  0.64\n",
      "Individuo:  0.72\n",
      "Individuo:  -1.29\n",
      "Individuo:  1.04\n",
      "Individuo:  -0.47\n",
      "Individuo:  0.66\n",
      "Individuo:  0.36\n",
      "Individuo:  0.35\n",
      "Individuo:  1.0\n",
      "Individuo:  -1.82\n",
      "Individuo:  -0.59\n",
      "Individuo:  0.55\n",
      "Individuo:  1.83\n",
      "Individuo:  0.6\n",
      "Individuo:  0.98\n"
     ]
    },
    {
     "data": {
      "text/plain": [
       "array([[0., 0., 0., ..., 0., 0., 0.],\n",
       "       [0., 0., 0., ..., 0., 0., 0.],\n",
       "       [0., 0., 0., ..., 0., 0., 0.],\n",
       "       ...,\n",
       "       [1., 1., 1., ..., 0., 0., 0.],\n",
       "       [0., 0., 1., ..., 0., 0., 0.],\n",
       "       [0., 1., 0., ..., 0., 0., 0.]])"
      ]
     },
     "execution_count": 7,
     "metadata": {},
     "output_type": "execute_result"
    }
   ],
   "source": [
    "def población():\n",
    "    población = [individuo(-2.048,2.048) for i in range(Número_individuos)]\n",
    "    población = np.array(población)\n",
    "    return (población)\n",
    "población()"
   ]
  },
  {
   "cell_type": "code",
   "execution_count": null,
   "metadata": {},
   "outputs": [],
   "source": [
    "def fitness(individuo):\n",
    "    gap = 0\n",
    "    for i in range(len(individuo)):\n",
    "        if individuo[i] == optimo[i]:\n",
    "            gap += 1       \n",
    "    return gap"
   ]
  },
  {
   "cell_type": "code",
   "execution_count": null,
   "metadata": {},
   "outputs": [],
   "source": [
    "def selección_reproducción(pob):\n",
    "    puntuados = [ (fitness(i), i) for i in pob] #Calcula el fitness de cada individuo, y lo guarda en pares ordenados de la forma (5 , [1,2,1,1,4,1,8,9,4,1])\n",
    "    puntuados.sort(key=lambda puntuados: puntuados[0], reverse = True) #Ordena los pares ordenados y se queda solo con el array de valores\n",
    "    print (\"\\nPuntuados\\n\" + str(puntuados))\n",
    "    puntuados_ = [i[1] for i in puntuados] \n",
    "    \n",
    "    pob = puntuados_\n",
    "  \n",
    "    selección =  puntuados_[(len(puntuados)-Número_repr):] \n",
    "\n",
    "    #Se mezcla el material genetico para crear nuevos individuos\n",
    "    for i in range(len(pob)-Número_repr):\n",
    "        pivote = random.randint(1,Número_bits-1) #Se elige un punto para hacer el intercambio\n",
    "        padre = random.sample(selección, 2) #Se eligen dos padres\n",
    "          \n",
    "        pob[i][:pivote] = padre[0][:pivote] #Cruce\n",
    "        pob[i][pivote:] = padre[1][pivote:]\n",
    "  \n",
    "    return pob #La nueva poblacion de individuos\n"
   ]
  },
  {
   "cell_type": "code",
   "execution_count": null,
   "metadata": {},
   "outputs": [],
   "source": [
    "def mutación(pob):\n",
    "    for i in range(len(pob)-Número_repr):\n",
    "        if random.random() <= pm: #Cada individuo de la poblacion (menos los padres) tienen una probabilidad de mutar\n",
    "            pivote = random.randint(0,Número_bits-1)\n",
    "            nuevo_valor = random.randint(0,1) \n",
    "  \n",
    "            while nuevo_valor == pob[i][pivote]:\n",
    "                nuevo_valor = random.randint(0,1)\n",
    "  \n",
    "            pob[i][pivote] = nuevo_valor #Mutación\n",
    "  \n",
    "    return pob"
   ]
  },
  {
   "cell_type": "code",
   "execution_count": null,
   "metadata": {},
   "outputs": [],
   "source": [
    "pob = población()\n",
    "pob = selección_reproducción(pob)\n",
    "pob = mutación(pob)\n",
    "    \n",
    "print(\"\\nPoblacion Final:\\n%s\"%(pob)) #Se muestra la poblacion evolucionada\n",
    "print(\"\\n\\n\")\n",
    "#Los últimos son los más óptimos"
   ]
  }
 ],
 "metadata": {
  "kernelspec": {
   "display_name": "Python 3",
   "language": "python",
   "name": "python3"
  },
  "language_info": {
   "codemirror_mode": {
    "name": "ipython",
    "version": 3
   },
   "file_extension": ".py",
   "mimetype": "text/x-python",
   "name": "python",
   "nbconvert_exporter": "python",
   "pygments_lexer": "ipython3",
   "version": "3.6.5"
  }
 },
 "nbformat": 4,
 "nbformat_minor": 2
}
